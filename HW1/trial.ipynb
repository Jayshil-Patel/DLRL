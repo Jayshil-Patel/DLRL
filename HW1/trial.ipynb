{
 "cells": [
  {
   "cell_type": "code",
   "execution_count": null,
   "metadata": {},
   "outputs": [],
   "source": [
    "import difflib\n",
    "\n",
    "# Read the code from the files\n",
    "with open('Final_nonRegularized', 'r') as file:\n",
    "    code1 = file.readlines()\n",
    "\n",
    "with open('file2.py', 'r') as file:\n",
    "    code2 = file.readlines()\n",
    "\n",
    "# Compute the similarity using difflib\n",
    "similarity_ratio = difflib.SequenceMatcher(None, code1, code2).ratio()\n",
    "\n",
    "print(f\"Similarity ratio: {similarity_ratio}\")"
   ]
  }
 ],
 "metadata": {
  "kernelspec": {
   "display_name": "Python 3",
   "language": "python",
   "name": "python3"
  },
  "language_info": {
   "name": "python",
   "version": "3.9.5"
  },
  "orig_nbformat": 4
 },
 "nbformat": 4,
 "nbformat_minor": 2
}
