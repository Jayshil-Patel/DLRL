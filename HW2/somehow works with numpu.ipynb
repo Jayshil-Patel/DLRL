{
 "cells": [
  {
   "cell_type": "code",
   "execution_count": 22,
   "metadata": {},
   "outputs": [
    {
     "name": "stdout",
     "output_type": "stream",
     "text": [
      "A:  [[ 0.79329563 -0.04175675  0.06125231  0.03232194]\n",
      " [ 0.47329077  0.7268569   0.06633426  0.60526384]\n",
      " [ 0.21675805  0.29915336  0.28861317  0.17640512]\n",
      " [-0.09659981  0.53302892 -0.08764319  0.48965804]]\n",
      "B:  [[0.78994756 0.37365832 0.62235873 0.05831263]\n",
      " [0.33746884 0.30339282 0.57455671 0.32107389]\n",
      " [0.53546881 0.32909611 0.24082679 0.66641902]\n",
      " [0.42536863 0.77393884 0.48531959 0.30889125]]\n",
      "C:  [[-0.34515604  0.18640011  0.03796738  0.12452631]\n",
      " [ 0.35121144 -0.16153282 -0.07815532 -0.11513801]\n",
      " [ 0.22225945 -0.03499953 -0.20209305  0.00883211]\n",
      " [ 0.30068824 -0.1931253  -0.2189281   0.09151886]]\n"
     ]
    },
    {
     "data": {
      "image/png": "[encoded data removed]",
      "text/plain": [
       "<Figure size 432x288 with 1 Axes>"
      ]
     },
     "metadata": {
      "needs_background": "light"
     },
     "output_type": "display_data"
    }
   ],
   "source": [
    "import math\n",
    "import random\n",
    "import numpy as np\n",
    "import matplotlib.pyplot as plt\n",
    "\n",
    "def sigmoid(y):\n",
    "    u = 1.0 / (1.0 + np.exp(-y))\n",
    "    return u\n",
    "\n",
    "def back_propagation(k, epochs_list, learning_rate):\n",
    "    A = np.random.rand(k, k)\n",
    "    B = np.random.rand(k, k)\n",
    "    C = np.random.rand(k, k)\n",
    "    x = np.ones(k)\n",
    "    Loss_list = []\n",
    "    for epoch in range(len(epochs_list)):\n",
    "        y = np.matmul(A, x)\n",
    "        u = sigmoid(y)\n",
    "        v = np.matmul(B, x)\n",
    "        z = u + v\n",
    "        w = np.matmul(C, z)  # Compute Cz\n",
    "\n",
    "        Loss = np.sum(np.multiply(w, w))\n",
    "        Loss_list.append(Loss)\n",
    "\n",
    "        z_grad = np.eye(k)\n",
    "        y_grad = sigmoid(y) * (1 - sigmoid(y))\n",
    "\n",
    "        # Compute gradients\n",
    "        C_grad = 2 * np.outer(w, z)  # Gradient of L w.r.t. C\n",
    "        A_grad = 2 * np.outer(np.multiply(np.matmul(C.T, w), sigmoid(y_grad)), x)\n",
    "        B_grad = 2 * np.outer(np.multiply(np.matmul(C.T, w), sigmoid(y_grad)), x)\n",
    "\n",
    "        A = A - learning_rate * A_grad\n",
    "        B = B - learning_rate * B_grad\n",
    "        C = C - learning_rate * C_grad  # Update C using gradient descent\n",
    "\n",
    "    print('A: ', A)\n",
    "    print('B: ', B)\n",
    "    print('C: ', C)\n",
    "    return Loss_list\n",
    "\n",
    "if __name__ == \"__main__\":\n",
    "    k = 4\n",
    "    learning_rate = 0.001\n",
    "    epochs_list = [epoch for epoch in range(1000)]\n",
    "    Loss_list = back_propagation(k, epochs_list, learning_rate)\n",
    "\n",
    "    plt.plot(epochs_list, Loss_list, color='steelblue')\n",
    "    title = \"Value of Loss Function Epochs = 1000\"+\" k=\"+str(k)\n",
    "    plt.title(title)\n",
    "    plt.xlabel('Epochs')\n",
    "    plt.ylabel('Loss Value')\n",
    "    plt.show()"
   ]
  },
  {
   "cell_type": "code",
   "execution_count": null,
   "metadata": {},
   "outputs": [],
   "source": []
  }
 ],
 "metadata": {
  "kernelspec": {
   "display_name": "Python 3",
   "language": "python",
   "name": "python3"
  },
  "language_info": {
   "codemirror_mode": {
    "name": "ipython",
    "version": 3
   },
   "file_extension": ".py",
   "mimetype": "text/x-python",
   "name": "python",
   "nbconvert_exporter": "python",
   "pygments_lexer": "ipython3",
   "version": "3.9.5"
  },
  "orig_nbformat": 4
 },
 "nbformat": 4,
 "nbformat_minor": 2
}
