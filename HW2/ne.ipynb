{
 "cells": [
  {
   "cell_type": "code",
   "execution_count": 1,
   "metadata": {},
   "outputs": [
    {
     "name": "stdout",
     "output_type": "stream",
     "text": [
      "Forward Propagation Results:\n",
      "y: [1.4, 3.1999999999999997, 5.0]\n",
      "u: [0.8021838885585817, 0.9608342772032357, 0.9933071490757153]\n",
      "v: [2.8, 6.3999999999999995, 10.0]\n",
      "z: [3.6021838885585815, 7.360834277203235, 10.993307149075715]\n",
      "w: [15.391132167057659, 35.15182495041144, 54.91251773376521]\n",
      "L: 4487.922350589284\n"
     ]
    }
   ],
   "source": [
    "import math\n",
    "\n",
    "def sigmoid(x):\n",
    "    if x >= 0:\n",
    "        return 1.0 / (1.0 + math.exp(-x))\n",
    "    else:\n",
    "        exp_x = math.exp(x)\n",
    "        return exp_x / (1.0 + exp_x)\n",
    "\n",
    "\n",
    "# Update the forward propagation function to use the updated sigmoid function\n",
    "def forward_propagation(x, A, B, C):\n",
    "    # Compute y, u, v, z, w, and L\n",
    "    y = [sum(A[i][j] * x[j] for j in range(len(x))) for i in range(len(A))]\n",
    "    u = [sigmoid(y_i) for y_i in y]\n",
    "    v = [sum(B[i][j] * x[j] for j in range(len(x))) for i in range(len(B))]\n",
    "    z = [u_i + v_i for u_i, v_i in zip(u, v)]\n",
    "    w = [sum(C[i][j] * z_j for j, z_j in enumerate(z)) for i in range(len(C))]\n",
    "    L = sum(w_i * w_i for w_i in w)\n",
    "    return y, u, v, z, w, L\n",
    "\n",
    "# Example usage\n",
    "x_example = [1.0, 2.0, 3.0]  # Replace with your input vector\n",
    "A_example = [[0.1, 0.2, 0.3], [0.4, 0.5, 0.6], [0.7, 0.8, 0.9]]  # Replace with your A matrix\n",
    "B_example = [[0.2, 0.4, 0.6], [0.8, 1.0, 1.2], [1.4, 1.6, 1.8]]  # Replace with your B matrix\n",
    "C_example = [[0.3, 0.6, 0.9], [1.2, 1.5, 1.8], [2.1, 2.4, 2.7]]  # Replace with your C matrix\n",
    "\n",
    "y, u, v, z, w, L = forward_propagation(x_example, A_example, B_example, C_example)\n",
    "print(\"Forward Propagation Results:\")\n",
    "print(\"y:\", y)\n",
    "print(\"u:\", u)\n",
    "print(\"v:\", v)\n",
    "print(\"z:\", z)\n",
    "print(\"w:\", w)\n",
    "print(\"L:\", L)\n"
   ]
  },
  {
   "cell_type": "code",
   "execution_count": 2,
   "metadata": {},
   "outputs": [
    {
     "name": "stdout",
     "output_type": "stream",
     "text": [
      "\n",
      "Backward Propagation Results (Gradients):\n",
      "∂L/∂A: [[5.145066355265455, 20.58026542106182, 46.30559719738909], [5.8329982258113375, 14.582495564528342, 26.248492016151012], [2.0977593299053936, 4.7948784683551855, 8.091357415349375]]\n",
      "∂L/∂B: [[324.23163366303595, 648.4632673260719, 972.6949009891079], [387.50491857377654, 775.0098371475531, 1162.5147557213295], [450.7782034845171, 901.5564069690342, 1352.3346104535512]]\n",
      "∂L/∂C: [[110.88337663770164, 226.58314644048664, 338.39888656896835], [253.2466749796073, 517.4935160024728, 772.8696170608323], [395.6099733215129, 808.403885564459, 1207.3403475526961]]\n"
     ]
    }
   ],
   "source": [
    "def backward_propagation(x, A, B, C, y, u, v, z, w):\n",
    "    # Compute gradients ∂L/∂A, ∂L/∂B, ∂L/∂C\n",
    "    dL_dw = [2 * w_i for w_i in w]\n",
    "    dL_dz = [sum(C[i][j] * dL_dw[i] for i in range(len(C))) for j in range(len(z))]\n",
    "    dL_du = [dL_dz_i * sigmoid(y_i) * (1 - sigmoid(y_i)) for y_i, dL_dz_i in zip(y, dL_dz)]\n",
    "    \n",
    "    dL_dA = [[dL_du[i] * A[i][j] * x[j] for j in range(len(x))] for i in range(len(A))]\n",
    "    dL_dB = [[dL_dz[i] * x[j] for j in range(len(x))] for i in range(len(B))]\n",
    "    dL_dC = [[dL_dw[i] * z[j] for j in range(len(z))] for i in range(len(C))]\n",
    "    \n",
    "    return dL_dA, dL_dB, dL_dC\n",
    "\n",
    "# Example usage\n",
    "dL_dA, dL_dB, dL_dC = backward_propagation(x_example, A_example, B_example, C_example, y, u, v, z, w)\n",
    "print(\"\\nBackward Propagation Results (Gradients):\")\n",
    "print(\"∂L/∂A:\", dL_dA)\n",
    "print(\"∂L/∂B:\", dL_dB)\n",
    "print(\"∂L/∂C:\", dL_dC)\n"
   ]
  },
  {
   "cell_type": "code",
   "execution_count": 4,
   "metadata": {},
   "outputs": [
    {
     "data": {
      "image/png": "[encoded data removed]",
      "text/plain": [
       "<Figure size 432x288 with 1 Axes>"
      ]
     },
     "metadata": {
      "needs_background": "light"
     },
     "output_type": "display_data"
    }
   ],
   "source": [
    "import matplotlib.pyplot as plt\n",
    "\n",
    "def gradient_descent(A, B, C, dL_dA, dL_dB, dL_dC, learning_rate=0.01, num_epochs=100):\n",
    "    # Initialize a list to store the loss at each iteration\n",
    "    loss_history = []\n",
    "    \n",
    "    for epoch in range(num_epochs):\n",
    "        # Compute L and gradients\n",
    "        _, _, _, _, _, L = forward_propagation(x_example, A, B, C)\n",
    "        dL_dA, dL_dB, dL_dC = backward_propagation(x_example, A, B, C, y, u, v, z, w)\n",
    "        \n",
    "        # Update A, B, C using gradient descent\n",
    "        A = [[A[i][j] - learning_rate * dL_dA[i][j] for j in range(len(A))] for i in range(len(A))]\n",
    "        B = [[B[i][j] - learning_rate * dL_dB[i][j] for j in range(len(B))] for i in range(len(B))]\n",
    "        C = [[C[i][j] - learning_rate * dL_dC[i][j] for j in range(len(C))] for i in range(len(C))]\n",
    "        \n",
    "        # Append the loss to the loss history\n",
    "        loss_history.append(L)\n",
    "    \n",
    "    return A, B, C, loss_history\n",
    "\n",
    "# Example usage with 1000 epochs\n",
    "num_epochs = 1000\n",
    "A_new, B_new, C_new, loss_history = gradient_descent(A_example, B_example, C_example, dL_dA, dL_dB, dL_dC, num_epochs=num_epochs)\n",
    "\n",
    "# Plot loss value vs. epoch\n",
    "plt.plot(range(1, num_epochs + 1), loss_history)\n",
    "plt.xlabel('Epoch')\n",
    "plt.ylabel('Loss')\n",
    "plt.title('Loss vs. Epoch')\n",
    "plt.show()\n"
   ]
  },
  {
   "cell_type": "code",
   "execution_count": null,
   "metadata": {},
   "outputs": [],
   "source": []
  }
 ],
 "metadata": {
  "kernelspec": {
   "display_name": "Python 3",
   "language": "python",
   "name": "python3"
  },
  "language_info": {
   "codemirror_mode": {
    "name": "ipython",
    "version": 3
   },
   "file_extension": ".py",
   "mimetype": "text/x-python",
   "name": "python",
   "nbconvert_exporter": "python",
   "pygments_lexer": "ipython3",
   "version": "3.9.5"
  },
  "orig_nbformat": 4
 },
 "nbformat": 4,
 "nbformat_minor": 2
}
