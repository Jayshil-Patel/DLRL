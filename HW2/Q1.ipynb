{
 "cells": [
  {
   "cell_type": "code",
   "execution_count": 266,
   "metadata": {},
   "outputs": [
    {
     "name": "stdout",
     "output_type": "stream",
     "text": [
      "initial A:\n",
      "[[0.19200996978522622, 0.8364834414782254], [0.15094170103852433, 0.11774507631225861]]\n",
      "initial B:\n",
      "[[0.11656203838638057, 0.3776997205571929], [0.7156979514694183, 0.3117294721632189]]\n",
      "initial C:\n",
      "[[0.9168649820747824, 0.5055723013339426], [0.34652347016037444, 0.2854281462261671]]\n",
      "\n",
      "\n",
      "Optimized A:\n",
      "[[0.17067769980525724, 0.825242704206683], [0.14167562453269641, 0.11286244864826278]]\n",
      "Optimized B:\n",
      "[[-0.2961448301383243, 0.1602296864912703], [0.5543580275129282, 0.22671368629942973]]\n",
      "Optimized C:\n",
      "[[0.5566777360953241, -0.19002991757473586], [0.17202466809325567, -0.05467312664022145]]\n"
     ]
    }
   ],
   "source": [
    "import math\n",
    "import random\n",
    "import matplotlib.pyplot as plt\n",
    "import torch\n",
    "K = 2 # Input vector dimension\n",
    "\n",
    "\n",
    "# Global variables for A, B, C, and x\n",
    "global A, B, C, x\n",
    "A = [[random.random() for _ in range(K)] for _ in range(K)]\n",
    "B = [[random.random() for _ in range(K)] for _ in range(K)]\n",
    "C = [[random.random() for _ in range(K)] for _ in range(K)]\n",
    "x = [random.random() for _ in range(K)]\n",
    "\n",
    "# Sigmoid function and its derivative\n",
    "def sigmoid(x):\n",
    "    return 1 / (1 + math.exp(-x))\n",
    "\n",
    "def sigmoid_derivative(x):\n",
    "    return sigmoid(x) * (1 - sigmoid(x))\n",
    "    \n",
    "def sigmoid_matrix(y):\n",
    "    return [sigmoid(yi) for yi in y]\n",
    "# Matrix operations\n",
    "def matrix_vector_multiplication(matrix, vector):\n",
    "    return [sum(matrix[i][j] * vector[j] for j in range(len(vector))) for i in range(len(matrix))]\n",
    "\n",
    "def matrix_scalar_multiplication(matrix, scalar):\n",
    "    return [[matrix[i][j] * scalar for j in range(len(matrix[0]))] for i in range(len(matrix))]\n",
    "\n",
    "def matrix_addition(matrix1, matrix2):\n",
    "    return [[matrix1[i][j] + matrix2[i][j] for j in range(len(matrix1[0]))] for i in range(len(matrix1))]\n",
    "\n",
    "# Forward propagation\n",
    "def forward_propagation(x, A, B, C):\n",
    "    y = matrix_vector_multiplication(A,x)\n",
    "    u = sigmoid_matrix(y)\n",
    "    v = matrix_vector_multiplication(B,x)\n",
    "    z = [ui + vi for ui, vi in zip(u, v)]\n",
    "    w = [sum(C[i][j] * zi for j, zi in enumerate(z)) for i in range(K)]\n",
    "    L = sum(wi ** 2 for wi in w)\n",
    "    return z, w, L, u, v, y\n",
    "\n",
    "# Backpropagation to compute gradients\n",
    "def compute_gradients(x, A, B, C, z, w, u, v, y):\n",
    "    dL_dw = [2 * wi for wi in w]\n",
    "    dL_dz = [sum(C[i][j] * dL_dw[j] for j in range(K)) for i in range(K)]\n",
    "    dL_du = [dL_dz[i] * sigmoid_derivative(u[i]) for i in range(K)]\n",
    "    dL_dy = [dL_du[i] * sigmoid_derivative(y[i]) for i in range(K)]\n",
    "\n",
    "    gradient_A = [[dL_dy[i] * x[j] for j in range(K)] for i in range(K)]\n",
    "    gradient_B = [[dL_dz[i] * x[j] for j in range(K)] for i in range(K)]\n",
    "    gradient_C = [[dL_dw[i] * z[j] for j in range(K)] for i in range(K)]\n",
    "\n",
    "    # gradient_A = [[2 * w[i] * C[i][j] * sigmoid_derivative(Ax + Bx) * x[j] for j in range(len(x))] for i, (Ax, Bx) in enumerate(zip(matrix_vector_multiplication(A, x), matrix_vector_multiplication(B, x)))]\n",
    "    # gradient_B = [[2 * w[i] * C[i][j] * sigmoid_derivative(Ax + Bx) * x[j] for j in range(len(x))] for i, (Ax, Bx) in enumerate(zip(matrix_vector_multiplication(A, x), matrix_vector_multiplication(B, x)))]\n",
    "    # gradient_C = [[2 * w[i] * z[j] for j in range(len(z))] for i in range(len(w))]\n",
    "    return gradient_A, gradient_B, gradient_C\n",
    "\n",
    "# Gradient descent to minimize the loss\n",
    "def gradient_descent(A, B, C, gradient_A, gradient_B, gradient_C, learning_rate):\n",
    "    A_new = matrix_addition(A, matrix_scalar_multiplication(gradient_A, -learning_rate))\n",
    "    B_new = matrix_addition(B, matrix_scalar_multiplication(gradient_B, -learning_rate))\n",
    "    C_new = matrix_addition(C, matrix_scalar_multiplication(gradient_C, -learning_rate))\n",
    "    return A_new, B_new, C_new\n",
    "\n",
    "# Generate random input vector and matrices A, B, C\n",
    "# random.seed(42)  # Seed for reproducibility\n",
    "\n",
    "# A = [[random.random() for _ in range(K)] for _ in range(K)]\n",
    "# B = [[random.random() for _ in range(K)] for _ in range(K)]\n",
    "# C = [[random.random() for _ in range(K)] for _ in range(K)]\n",
    "# x = [random.random() for _ in range(K)]\n",
    "\n",
    "# Hyperparameters\n",
    "learning_rate = 0.01\n",
    "num_epochs = 100\n",
    "\n",
    "A_manual = A\n",
    "B_manual = B\n",
    "C_manual = C\n",
    "Loss_list=[]\n",
    "# Display the initial A, B, and C\n",
    "print(\"initial A:\")\n",
    "print(A_manual)\n",
    "print(\"initial B:\")\n",
    "print(B_manual)\n",
    "print(\"initial C:\")\n",
    "print(C_manual)\n",
    "print(\"\\n\")\n",
    "# Training loop\n",
    "for epoch in range(num_epochs):\n",
    "    # Forward propagation\n",
    "    z, w, L, u, v, y = forward_propagation(x, A_manual, B_manual, C_manual)\n",
    "\n",
    "    # Backpropagation to compute gradients\n",
    "    gradient_A, gradient_B, gradient_C = compute_gradients(x, A_manual, B_manual, C_manual, z, w, u, v, y)\n",
    "\n",
    "    # Gradient descent to update A, B, and C\n",
    "    A_manual, B_manual, C_manual = gradient_descent(A_manual, B_manual, C_manual, gradient_A, gradient_B, gradient_C, learning_rate)\n",
    "\n",
    "    # Store the loss value after each epoch\n",
    "    Loss_list.append(L)\n",
    "\n",
    "# Display the optimized A, B, and C\n",
    "print(\"Optimized A:\")\n",
    "print(A_manual)\n",
    "print(\"Optimized B:\")\n",
    "print(B_manual)\n",
    "print(\"Optimized C:\")\n",
    "print(C_manual)\n"
   ]
  },
  {
   "cell_type": "code",
   "execution_count": 267,
   "metadata": {},
   "outputs": [
    {
     "data": {
      "text/plain": [
       "Text(0, 0.5, 'loss')"
      ]
     },
     "execution_count": 267,
     "metadata": {},
     "output_type": "execute_result"
    },
    {
     "data": {
      "image/png": "[encoded data removed]",
      "text/plain": [
       "<Figure size 432x288 with 1 Axes>"
      ]
     },
     "metadata": {
      "needs_background": "light"
     },
     "output_type": "display_data"
    }
   ],
   "source": [
    "# Plotting the values of loss vs epoch for a specific value of K\n",
    "plt.plot(range(num_epochs),Loss_list)\n",
    "title = \"Loss vs Epoch for k = {}\".format(K)\n",
    "plt.title(title)\n",
    "plt.xlabel('epoch')\n",
    "plt.ylabel('loss')"
   ]
  },
  {
   "cell_type": "code",
   "execution_count": 268,
   "metadata": {},
   "outputs": [
    {
     "data": {
      "image/png": "[encoded data removed]",
      "text/plain": [
       "<Figure size 720x360 with 1 Axes>"
      ]
     },
     "metadata": {
      "needs_background": "light"
     },
     "output_type": "display_data"
    }
   ],
   "source": [
    "# Convert A, B, C, and x to PyTorch tensors\n",
    "A = torch.tensor(A, requires_grad=True, dtype=torch.float32)\n",
    "B = torch.tensor(B, requires_grad=True, dtype=torch.float32)\n",
    "C = torch.tensor(C, requires_grad=True, dtype=torch.float32)\n",
    "x = torch.tensor(x, dtype=torch.float32)\n",
    "\n",
    "# Training loop using torch.autograd\n",
    "Loss_list_autograd = []\n",
    "for epoch in range(num_epochs):\n",
    "    # Forward propagation using torch.autograd\n",
    "    Ax = torch.matmul(A, x)\n",
    "    Bx = torch.matmul(B, x)\n",
    "    z = torch.sigmoid(Ax) + Bx\n",
    "    w = torch.matmul(C, z)\n",
    "    L = torch.sum(w ** 2)\n",
    "\n",
    "    # Backpropagation using torch.autograd\n",
    "    L.backward()\n",
    "\n",
    "    # Extract gradients computed by torch.autograd\n",
    "    gradient_A_autograd = A.grad\n",
    "    gradient_B_autograd = B.grad\n",
    "    gradient_C_autograd = C.grad\n",
    "\n",
    "    # Gradient descent to update A, B, and C using torch.autograd\n",
    "    with torch.no_grad():\n",
    "        A -= learning_rate * gradient_A_autograd\n",
    "        B -= learning_rate * gradient_B_autograd\n",
    "        C -= learning_rate * gradient_C_autograd\n",
    "\n",
    "    # Clear gradients\n",
    "    A.grad = None\n",
    "    B.grad = None\n",
    "    C.grad = None\n",
    "\n",
    "    # store the loss value for each epoch\n",
    "    Loss_list_autograd.append(L.item())\n",
    "\n",
    "# Compare the loss curves\n",
    "plt.figure(figsize=(10, 5))\n",
    "plt.plot(range(num_epochs), Loss_list, label=\"Loss (Manual)\")\n",
    "plt.plot(range(num_epochs), Loss_list_autograd, label=\"Loss (Autograd)\")\n",
    "plt.xlabel(\"Epoch\")\n",
    "title = \"Loss vs Epoch for k = {}\".format(K)\n",
    "plt.title(title)\n",
    "plt.ylabel(\"Loss\")\n",
    "plt.legend()\n",
    "plt.show()"
   ]
  },
  {
   "cell_type": "code",
   "execution_count": 269,
   "metadata": {},
   "outputs": [
    {
     "data": {
      "text/plain": [
       "[[0.17067769980525724, 0.825242704206683],\n",
       " [0.14167562453269641, 0.11286244864826278]]"
      ]
     },
     "execution_count": 269,
     "metadata": {},
     "output_type": "execute_result"
    }
   ],
   "source": [
    "A_manual"
   ]
  },
  {
   "cell_type": "code",
   "execution_count": 270,
   "metadata": {},
   "outputs": [
    {
     "data": {
      "text/plain": [
       "tensor([[0.0919, 0.7837],\n",
       "        [0.1221, 0.1025]], requires_grad=True)"
      ]
     },
     "execution_count": 270,
     "metadata": {},
     "output_type": "execute_result"
    }
   ],
   "source": [
    "# value of optimized matrix A computed using a library\n",
    "A"
   ]
  },
  {
   "cell_type": "code",
   "execution_count": 271,
   "metadata": {},
   "outputs": [
    {
     "name": "stdout",
     "output_type": "stream",
     "text": [
      "[-0.2961448301383243, 0.1602296864912703]\n",
      "[0.5543580275129282, 0.22671368629942973]\n"
     ]
    }
   ],
   "source": [
    "# value of optimized matrix B computed manualy\n",
    "for row in B_manual:\n",
    "    print(row)\n"
   ]
  },
  {
   "cell_type": "code",
   "execution_count": 272,
   "metadata": {},
   "outputs": [
    {
     "name": "stdout",
     "output_type": "stream",
     "text": [
      "tensor([[-0.3151,  0.1502],\n",
      "        [ 0.5993,  0.2504]], requires_grad=True)\n"
     ]
    }
   ],
   "source": [
    "# value of optimized matrix B computed using a library\n",
    "print(B)"
   ]
  },
  {
   "cell_type": "code",
   "execution_count": 273,
   "metadata": {},
   "outputs": [
    {
     "data": {
      "text/plain": [
       "[[0.5566777360953241, -0.19002991757473586],\n",
       " [0.17202466809325567, -0.05467312664022145]]"
      ]
     },
     "execution_count": 273,
     "metadata": {},
     "output_type": "execute_result"
    }
   ],
   "source": [
    "C_manual\n"
   ]
  },
  {
   "cell_type": "code",
   "execution_count": 274,
   "metadata": {},
   "outputs": [
    {
     "data": {
      "text/plain": [
       "tensor([[ 0.5693, -0.1705],\n",
       "        [ 0.1771, -0.0493]], requires_grad=True)"
      ]
     },
     "execution_count": 274,
     "metadata": {},
     "output_type": "execute_result"
    }
   ],
   "source": [
    "C"
   ]
  }
 ],
 "metadata": {
  "kernelspec": {
   "display_name": "Python 3",
   "language": "python",
   "name": "python3"
  },
  "language_info": {
   "codemirror_mode": {
    "name": "ipython",
    "version": 3
   },
   "file_extension": ".py",
   "mimetype": "text/x-python",
   "name": "python",
   "nbconvert_exporter": "python",
   "pygments_lexer": "ipython3",
   "version": "3.9.5"
  },
  "orig_nbformat": 4
 },
 "nbformat": 4,
 "nbformat_minor": 2
}
