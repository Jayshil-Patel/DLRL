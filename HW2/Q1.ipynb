{
 "cells": [
  {
   "cell_type": "code",
   "execution_count": 1,
   "metadata": {},
   "outputs": [
    {
     "name": "stderr",
     "output_type": "stream",
     "text": [
      "d:\\softwares\\Python\\lib\\site-packages\\numpy\\_distributor_init.py:30: UserWarning: loaded more than 1 DLL from .libs:\n",
      "d:\\softwares\\Python\\lib\\site-packages\\numpy\\.libs\\libopenblas.EL2C6PLE4ZYW3ECEVIV3OXXGRN2NRFM2.gfortran-win_amd64.dll\n",
      "d:\\softwares\\Python\\lib\\site-packages\\numpy\\.libs\\libopenblas.FB5AE2TYXYH2IJRDKGDGQ3XBKLKTF43H.gfortran-win_amd64.dll\n",
      "d:\\softwares\\Python\\lib\\site-packages\\numpy\\.libs\\libopenblas.WCDJNK7YVMPZQ2ME2ZZHJJRJ3JIKNDB7.gfortran-win_amd64.dll\n",
      "d:\\softwares\\Python\\lib\\site-packages\\numpy\\.libs\\libopenblas64__v0.3.21-gcc_10_3_0.dll\n",
      "  warnings.warn(\"loaded more than 1 DLL from .libs:\"\n"
     ]
    },
    {
     "name": "stdout",
     "output_type": "stream",
     "text": [
      "Optimized A:\n",
      "[[0.7444710959958887, 0.9662471625919832], [0.7725146461061193, 0.14636084745634972]]\n",
      "Optimized B:\n",
      "[[0.527221605320361, 0.15418166405179365], [0.5790177562189234, 0.12889326754485145]]\n",
      "Optimized C:\n",
      "[[0.09219284339766015, 0.218776315453745], [0.1954860603332748, -0.0314909348054328]]\n"
     ]
    }
   ],
   "source": [
    "import math\n",
    "import random\n",
    "import matplotlib.pyplot as plt\n",
    "import torch\n",
    "K = 2 # Input vector dimension\n",
    "\n",
    "\n",
    "# Global variables for A, B, C, and x\n",
    "global A, B, C, x\n",
    "A = [[random.random() for _ in range(K)] for _ in range(K)]\n",
    "B = [[random.random() for _ in range(K)] for _ in range(K)]\n",
    "C = [[random.random() for _ in range(K)] for _ in range(K)]\n",
    "x = [random.random() for _ in range(K)]\n",
    "\n",
    "# Sigmoid function and its derivative\n",
    "def sigmoid(x):\n",
    "    return 1 / (1 + math.exp(-x))\n",
    "\n",
    "def sigmoid_derivative(x):\n",
    "    return sigmoid(x) * (1 - sigmoid(x))\n",
    "\n",
    "# Matrix operations\n",
    "def matrix_vector_multiplication(matrix, vector):\n",
    "    return [sum(matrix[i][j] * vector[j] for j in range(len(vector))) for i in range(len(matrix))]\n",
    "\n",
    "def matrix_scalar_multiplication(matrix, scalar):\n",
    "    return [[matrix[i][j] * scalar for j in range(len(matrix[0]))] for i in range(len(matrix))]\n",
    "\n",
    "def matrix_addition(matrix1, matrix2):\n",
    "    return [[matrix1[i][j] + matrix2[i][j] for j in range(len(matrix1[0]))] for i in range(len(matrix1))]\n",
    "\n",
    "# Forward propagation\n",
    "def forward_propagation(x, A, B, C):\n",
    "    Ax = matrix_vector_multiplication(A, x)\n",
    "    Bx = matrix_vector_multiplication(B, x)\n",
    "    z = [sigmoid(Ax[i] + Bx[i]) for i in range(len(Ax))]\n",
    "    w = matrix_vector_multiplication(C, z)\n",
    "    L = sum(w[i] * w[i] for i in range(len(w)))\n",
    "    return z, w, L\n",
    "\n",
    "# Backpropagation to compute gradients\n",
    "def compute_gradients(x, A, B, C, z, w):\n",
    "    gradient_A = [[2 * w[i] * C[i][j] * sigmoid_derivative(Ax + Bx) * x[j] for j in range(len(x))] for i, (Ax, Bx) in enumerate(zip(matrix_vector_multiplication(A, x), matrix_vector_multiplication(B, x)))]\n",
    "    gradient_B = [[2 * w[i] * C[i][j] * sigmoid_derivative(Ax + Bx) * x[j] for j in range(len(x))] for i, (Ax, Bx) in enumerate(zip(matrix_vector_multiplication(A, x), matrix_vector_multiplication(B, x)))]\n",
    "    gradient_C = [[2 * w[i] * z[j] for j in range(len(z))] for i in range(len(w))]\n",
    "    return gradient_A, gradient_B, gradient_C\n",
    "\n",
    "# Gradient descent to minimize the loss\n",
    "def gradient_descent(A, B, C, gradient_A, gradient_B, gradient_C, learning_rate):\n",
    "    A_new = matrix_addition(A, matrix_scalar_multiplication(gradient_A, -learning_rate))\n",
    "    B_new = matrix_addition(B, matrix_scalar_multiplication(gradient_B, -learning_rate))\n",
    "    C_new = matrix_addition(C, matrix_scalar_multiplication(gradient_C, -learning_rate))\n",
    "    return A_new, B_new, C_new\n",
    "\n",
    "# Generate random input vector and matrices A, B, C\n",
    "random.seed(42)  # Seed for reproducibility\n",
    "\n",
    "# A = [[random.random() for _ in range(K)] for _ in range(K)]\n",
    "# B = [[random.random() for _ in range(K)] for _ in range(K)]\n",
    "# C = [[random.random() for _ in range(K)] for _ in range(K)]\n",
    "# x = [random.random() for _ in range(K)]\n",
    "\n",
    "# Hyperparameters\n",
    "learning_rate = 0.01\n",
    "num_epochs = 50\n",
    "\n",
    "# Training loop\n",
    "A_manual = A\n",
    "B_manual = B\n",
    "C_manual = C\n",
    "Loss_list=[]\n",
    "for epoch in range(num_epochs):\n",
    "    # Forward propagation\n",
    "    z, w, L = forward_propagation(x, A_manual, B_manual, C_manual)\n",
    "\n",
    "    # Backpropagation to compute gradients\n",
    "    gradient_A, gradient_B, gradient_C = compute_gradients(x, A_manual, B_manual, C_manual, z, w)\n",
    "\n",
    "    # Gradient descent to update A, B, and C\n",
    "    A_manual, B_manual, C_manual = gradient_descent(A_manual, B_manual, C_manual, gradient_A, gradient_B, gradient_C, learning_rate)\n",
    "\n",
    "    # Print the loss for every 100 epochs\n",
    "    Loss_list.append(L)\n",
    "\n",
    "# Display the optimized A, B, and C\n",
    "print(\"Optimized A:\")\n",
    "print(A_manual)\n",
    "print(\"Optimized B:\")\n",
    "print(B_manual)\n",
    "print(\"Optimized C:\")\n",
    "print(C_manual)\n"
   ]
  },
  {
   "cell_type": "code",
   "execution_count": 2,
   "metadata": {},
   "outputs": [
    {
     "data": {
      "text/plain": [
       "Text(0, 0.5, 'loss')"
      ]
     },
     "execution_count": 2,
     "metadata": {},
     "output_type": "execute_result"
    },
    {
     "data": {
      "image/png": "[encoded data removed]",
      "text/plain": [
       "<Figure size 432x288 with 1 Axes>"
      ]
     },
     "metadata": {
      "needs_background": "light"
     },
     "output_type": "display_data"
    }
   ],
   "source": [
    "plt.plot(range(num_epochs),Loss_list)\n",
    "plt.title('Loss vs Epoch for k = 2')\n",
    "plt.xlabel('epoch')\n",
    "plt.ylabel('loss')"
   ]
  },
  {
   "cell_type": "code",
   "execution_count": 3,
   "metadata": {},
   "outputs": [
    {
     "name": "stdout",
     "output_type": "stream",
     "text": [
      "Optimized A (Autograd):\n",
      "tensor([[0.7377, 0.9647],\n",
      "        [0.7611, 0.1331]], requires_grad=True)\n",
      "Optimized B (Autograd):\n",
      "tensor([[0.5204, 0.1526],\n",
      "        [0.5676, 0.1157]], requires_grad=True)\n",
      "Optimized C (Autograd):\n",
      "tensor([[ 0.0929,  0.2202],\n",
      "        [ 0.1957, -0.0308]], requires_grad=True)\n",
      "Gradient Comparison (Manual vs. Autograd):\n",
      "Gradient A (Manual):\n",
      "[[0.004434180810820543, 0.0076361847941607205], [0.0059879673650990875, -0.000667570083725375]]\n",
      "Gradient A (Autograd):\n",
      "tensor([[0.0097, 0.0072],\n",
      "        [0.0112, 0.0083]])\n",
      "Gradient B (Manual):\n",
      "[[0.004434180810820543, 0.0076361847941607205], [0.0059879673650990875, -0.000667570083725375]]\n",
      "Gradient B (Autograd):\n",
      "tensor([[0.0097, 0.0072],\n",
      "        [0.0112, 0.0083]])\n",
      "Gradient C (Manual):\n",
      "[[0.3514263065477152, 0.3240404197975256], [0.19901513818603198, 0.18350632187265792]]\n",
      "Gradient C (Autograd):\n",
      "tensor([[0.3511, 0.3222],\n",
      "        [0.1993, 0.1828]])\n"
     ]
    },
    {
     "data": {
      "image/png": "[encoded data removed]",
      "text/plain": [
       "<Figure size 720x360 with 1 Axes>"
      ]
     },
     "metadata": {
      "needs_background": "light"
     },
     "output_type": "display_data"
    }
   ],
   "source": [
    "# Convert A, B, C, and x to PyTorch tensors\n",
    "A = torch.tensor(A, requires_grad=True, dtype=torch.float32)\n",
    "B = torch.tensor(B, requires_grad=True, dtype=torch.float32)\n",
    "C = torch.tensor(C, requires_grad=True, dtype=torch.float32)\n",
    "x = torch.tensor(x, dtype=torch.float32)\n",
    "\n",
    "# Training loop using torch.autograd\n",
    "Loss_list_autograd = []\n",
    "for epoch in range(num_epochs):\n",
    "    # Forward propagation using torch.autograd\n",
    "    Ax = torch.matmul(A, x)\n",
    "    Bx = torch.matmul(B, x)\n",
    "    z = torch.sigmoid(Ax + Bx)\n",
    "    w = torch.matmul(C, z)\n",
    "    L = torch.sum(w ** 2)\n",
    "\n",
    "    # Backpropagation using torch.autograd\n",
    "    L.backward()\n",
    "\n",
    "    # Extract gradients computed by torch.autograd\n",
    "    gradient_A_autograd = A.grad\n",
    "    gradient_B_autograd = B.grad\n",
    "    gradient_C_autograd = C.grad\n",
    "\n",
    "    # Gradient descent to update A, B, and C using torch.autograd\n",
    "    with torch.no_grad():\n",
    "        A -= learning_rate * gradient_A_autograd\n",
    "        B -= learning_rate * gradient_B_autograd\n",
    "        C -= learning_rate * gradient_C_autograd\n",
    "\n",
    "    # Clear gradients\n",
    "    A.grad = None\n",
    "    B.grad = None\n",
    "    C.grad = None\n",
    "\n",
    "    # Print the loss for every 100 epochs\n",
    "    Loss_list_autograd.append(L.item())\n",
    "\n",
    "# Display the optimized A, B, and C using torch.autograd\n",
    "print(\"Optimized A (Autograd):\")\n",
    "print(A)\n",
    "print(\"Optimized B (Autograd):\")\n",
    "print(B)\n",
    "print(\"Optimized C (Autograd):\")\n",
    "print(C)\n",
    "\n",
    "# Compare the two sets of gradients (manual vs. autograd) and loss curves\n",
    "print(\"Gradient Comparison (Manual vs. Autograd):\")\n",
    "print(\"Gradient A (Manual):\")\n",
    "print(gradient_A)\n",
    "print(\"Gradient A (Autograd):\")\n",
    "print(gradient_A_autograd)\n",
    "\n",
    "print(\"Gradient B (Manual):\")\n",
    "print(gradient_B)\n",
    "print(\"Gradient B (Autograd):\")\n",
    "print(gradient_B_autograd)\n",
    "\n",
    "print(\"Gradient C (Manual):\")\n",
    "print(gradient_C)\n",
    "print(\"Gradient C (Autograd):\")\n",
    "print(gradient_C_autograd)\n",
    "\n",
    "# Compare the loss curves\n",
    "plt.figure(figsize=(10, 5))\n",
    "plt.plot(range(num_epochs), Loss_list, label=\"Loss (Manual)\")\n",
    "plt.plot(range(num_epochs), Loss_list_autograd, label=\"Loss (Autograd)\")\n",
    "plt.xlabel(\"Epoch\")\n",
    "plt.ylabel(\"Loss\")\n",
    "plt.legend()\n",
    "plt.show()"
   ]
  },
  {
   "cell_type": "code",
   "execution_count": 4,
   "metadata": {},
   "outputs": [
    {
     "data": {
      "text/plain": [
       "[[0.004434180810820543, 0.0076361847941607205],\n",
       " [0.0059879673650990875, -0.000667570083725375]]"
      ]
     },
     "execution_count": 4,
     "metadata": {},
     "output_type": "execute_result"
    }
   ],
   "source": [
    "gradient_A"
   ]
  },
  {
   "cell_type": "code",
   "execution_count": 5,
   "metadata": {},
   "outputs": [
    {
     "data": {
      "text/plain": [
       "tensor([[0.0097, 0.0072],\n",
       "        [0.0112, 0.0083]])"
      ]
     },
     "execution_count": 5,
     "metadata": {},
     "output_type": "execute_result"
    }
   ],
   "source": [
    "gradient_A_autograd"
   ]
  },
  {
   "cell_type": "code",
   "execution_count": null,
   "metadata": {},
   "outputs": [],
   "source": []
  }
 ],
 "metadata": {
  "kernelspec": {
   "display_name": "Python 3",
   "language": "python",
   "name": "python3"
  },
  "language_info": {
   "codemirror_mode": {
    "name": "ipython",
    "version": 3
   },
   "file_extension": ".py",
   "mimetype": "text/x-python",
   "name": "python",
   "nbconvert_exporter": "python",
   "pygments_lexer": "ipython3",
   "version": "3.9.5"
  },
  "orig_nbformat": 4
 },
 "nbformat": 4,
 "nbformat_minor": 2
}
