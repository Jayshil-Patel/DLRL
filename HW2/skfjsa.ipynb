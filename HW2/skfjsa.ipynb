{
 "cells": [
  {
   "cell_type": "code",
   "execution_count": 9,
   "metadata": {},
   "outputs": [
    {
     "name": "stdout",
     "output_type": "stream",
     "text": [
      "Optimized A:\n",
      "[[0.6389743455144645, 0.025893269914322375], [0.274935575979845, 0.2174777704866141]]\n",
      "Optimized B:\n",
      "[[0.7360213832699067, 0.6775768849785576], [0.8920858019233634, 0.08120445876758567]]\n",
      "Optimized C:\n",
      "[[0.1917241158101442, -0.19574182249276476], [-0.14551876418941107, 0.14856820692049474]]\n"
     ]
    }
   ],
   "source": [
    "import math\n",
    "import random\n",
    "\n",
    "# Sigmoid function and its derivative\n",
    "def sigmoid(x):\n",
    "    return 1 / (1 + math.exp(-x))\n",
    "\n",
    "def sigmoid_derivative(x):\n",
    "    return sigmoid(x) * (1 - sigmoid(x))\n",
    "\n",
    "# Matrix operations\n",
    "def matrix_vector_multiplication(matrix, vector):\n",
    "    return [sum(matrix[i][j] * vector[j] for j in range(len(vector))) for i in range(len(matrix))]\n",
    "\n",
    "def matrix_scalar_multiplication(matrix, scalar):\n",
    "    return [[matrix[i][j] * scalar for j in range(len(matrix[0]))] for i in range(len(matrix))]\n",
    "\n",
    "def matrix_addition(matrix1, matrix2):\n",
    "    return [[matrix1[i][j] + matrix2[i][j] for j in range(len(matrix1[0]))] for i in range(len(matrix1))]\n",
    "\n",
    "# Forward propagation\n",
    "def forward_propagation(x, A, B, C):\n",
    "    Ax = matrix_vector_multiplication(A, x)\n",
    "    Bx = matrix_vector_multiplication(B, x)\n",
    "    u = [sigmoid(Ax[i]) for i in range(len(Ax))]\n",
    "    v = [sigmoid(Bx[i]) for i in range(len(Bx))]\n",
    "    z = [u[i] + v[i] for i in range(len(u))]\n",
    "    w = matrix_vector_multiplication(C, z)\n",
    "    L = sum(w[i] * w[i] for i in range(len(w)))\n",
    "    return u, v, z, w, L\n",
    "\n",
    "# Backpropagation to compute gradients\n",
    "def compute_gradients(x, A, B, C, u, v, z, w):\n",
    "    gradient_A = [[2 * w[i] * C[i][j] * sigmoid_derivative(Ax) * x[j] for j in range(len(x))] for i, Ax in enumerate(matrix_vector_multiplication(A, x))]\n",
    "    gradient_B = [[2 * w[i] * C[i][j] * sigmoid_derivative(Bx) * x[j] for j in range(len(x))] for i, Bx in enumerate(matrix_vector_multiplication(B, x))]\n",
    "    gradient_C = [[2 * w[i] * z[j] for j in range(len(z))] for i in range(len(w))]\n",
    "    return gradient_A, gradient_B, gradient_C\n",
    "\n",
    "# Gradient descent to minimize the loss\n",
    "def gradient_descent(A, B, C, gradient_A, gradient_B, gradient_C, learning_rate):\n",
    "    A_new = matrix_addition(A, matrix_scalar_multiplication(gradient_A, -learning_rate))\n",
    "    B_new = matrix_addition(B, matrix_scalar_multiplication(gradient_B, -learning_rate))\n",
    "    C_new = matrix_addition(C, matrix_scalar_multiplication(gradient_C, -learning_rate))\n",
    "    return A_new, B_new, C_new\n",
    "\n",
    "# Generate random input vector and matrices A, B, C\n",
    "random.seed(42)  # Seed for reproducibility\n",
    "K = 2  # Input vector dimension\n",
    "A = [[random.random() for _ in range(K)] for _ in range(K)]\n",
    "B = [[random.random() for _ in range(K)] for _ in range(K)]\n",
    "C = [[random.random() for _ in range(K)] for _ in range(K)]\n",
    "x = [random.random() for _ in range(K)]\n",
    "A_for_auto = A\n",
    "B_for_auto = B\n",
    "C_for_auto = C\n",
    "\n",
    "# Hyperparameters\n",
    "learning_rate = 0.01\n",
    "num_epochs = 1000\n",
    "Loss_list = []\n",
    "# Training loop\n",
    "for epoch in range(num_epochs):\n",
    "    # Forward propagation\n",
    "    u, v, z, w, L = forward_propagation(x, A, B, C)\n",
    "\n",
    "    # Backpropagation to compute gradients\n",
    "    gradient_A, gradient_B, gradient_C = compute_gradients(x, A, B, C, u, v, z, w)\n",
    "\n",
    "    # Gradient descent to update A, B, and C\n",
    "    A, B, C = gradient_descent(A, B, C, gradient_A, gradient_B, gradient_C, learning_rate)\n",
    "\n",
    "    # Print the loss for every 100 epochs\n",
    "    Loss_list.append(L)\n",
    "\n",
    "# Display the optimized A, B, and C\n",
    "print(\"Optimized A:\")\n",
    "print(A)\n",
    "print(\"Optimized B:\")\n",
    "print(B)\n",
    "print(\"Optimized C:\")\n",
    "print(C)\n"
   ]
  },
  {
   "cell_type": "code",
   "execution_count": 10,
   "metadata": {},
   "outputs": [
    {
     "data": {
      "image/png": "[encoded data removed]",
      "text/plain": [
       "<Figure size 720x360 with 1 Axes>"
      ]
     },
     "metadata": {
      "needs_background": "light"
     },
     "output_type": "display_data"
    }
   ],
   "source": [
    "# Convert A, B, C, and x to PyTorch tensors\n",
    "import torch\n",
    "import matplotlib.pyplot as plt\n",
    "A_auto = torch.tensor(A_for_auto, requires_grad=True, dtype=torch.float32)\n",
    "B_auto = torch.tensor(B_for_auto, requires_grad=True, dtype=torch.float32)\n",
    "C_auto = torch.tensor(C_for_auto, requires_grad=True, dtype=torch.float32)\n",
    "x = torch.tensor(x, dtype=torch.float32)\n",
    "\n",
    "# Training loop using torch.autograd\n",
    "Loss_list_autograd = []\n",
    "for epoch in range(num_epochs):\n",
    "    # Forward propagation using torch.autograd\n",
    "    Ax = torch.matmul(A_auto, x)\n",
    "    Bx = torch.matmul(B_auto, x)\n",
    "    z = torch.sigmoid(Ax) + Bx\n",
    "    w = torch.matmul(C_auto, z)\n",
    "    L = torch.sum(w ** 2)\n",
    "\n",
    "    # Backpropagation using torch.autograd\n",
    "    L.backward()\n",
    "\n",
    "    # Extract gradients computed by torch.autograd\n",
    "    gradient_A_autograd = A_auto.grad\n",
    "    gradient_B_autograd = B_auto.grad\n",
    "    gradient_C_autograd = C_auto.grad\n",
    "\n",
    "    # Gradient descent to update A, B, and C using torch.autograd\n",
    "    with torch.no_grad():\n",
    "        A_auto -= learning_rate * gradient_A_autograd\n",
    "        B_auto -= learning_rate * gradient_B_autograd\n",
    "        C_auto -= learning_rate * gradient_C_autograd\n",
    "\n",
    "    # Clear gradients\n",
    "    A_auto.grad = None\n",
    "    B_auto.grad = None\n",
    "    C_auto.grad = None\n",
    "\n",
    "    # store the loss value for each epoch\n",
    "    Loss_list_autograd.append(L.item())\n",
    "\n",
    "# Compare the loss curves\n",
    "plt.figure(figsize=(10, 5))\n",
    "plt.plot(range(num_epochs), Loss_list, label=\"Loss (Manual)\")\n",
    "plt.plot(range(num_epochs), Loss_list_autograd, label=\"Loss (Autograd)\")\n",
    "plt.xlabel(\"Epoch\")\n",
    "title = \"Loss vs Epoch for k = {}\".format(K)\n",
    "plt.title(title)\n",
    "plt.ylabel(\"Loss\")\n",
    "plt.legend()\n",
    "plt.show()"
   ]
  },
  {
   "cell_type": "code",
   "execution_count": 11,
   "metadata": {},
   "outputs": [
    {
     "data": {
      "text/plain": [
       "[[0.6389743455144645, 0.025893269914322375],\n",
       " [0.274935575979845, 0.2174777704866141]]"
      ]
     },
     "execution_count": 11,
     "metadata": {},
     "output_type": "execute_result"
    }
   ],
   "source": [
    "A"
   ]
  },
  {
   "cell_type": "code",
   "execution_count": 12,
   "metadata": {},
   "outputs": [
    {
     "data": {
      "text/plain": [
       "tensor([[0.6385, 0.0183],\n",
       "        [0.2739, 0.2149]], requires_grad=True)"
      ]
     },
     "execution_count": 12,
     "metadata": {},
     "output_type": "execute_result"
    }
   ],
   "source": [
    "A_auto"
   ]
  }
 ],
 "metadata": {
  "kernelspec": {
   "display_name": "Python 3",
   "language": "python",
   "name": "python3"
  },
  "language_info": {
   "codemirror_mode": {
    "name": "ipython",
    "version": 3
   },
   "file_extension": ".py",
   "mimetype": "text/x-python",
   "name": "python",
   "nbconvert_exporter": "python",
   "pygments_lexer": "ipython3",
   "version": "3.9.5"
  }
 },
 "nbformat": 4,
 "nbformat_minor": 2
}
