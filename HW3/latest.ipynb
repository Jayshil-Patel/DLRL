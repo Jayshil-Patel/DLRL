{
 "cells": [
  {
   "cell_type": "code",
   "execution_count": 1,
   "metadata": {},
   "outputs": [],
   "source": [
    "import os\n",
    "\n",
    "def load_text_files_from_folder(folder_path):\n",
    "    text_list = []\n",
    "    labels = []\n",
    "\n",
    "    for sentiment in [\"neg\", \"pos\"]:\n",
    "        sentiment_dir = os.path.join(folder_path, sentiment)\n",
    "        label = 0 if sentiment == \"neg\" else 1  # Assign labels (0 for neg, 1 for pos)\n",
    "        for filename in os.listdir(sentiment_dir):\n",
    "            file_path = os.path.join(sentiment_dir, filename)\n",
    "            if os.path.isfile(file_path):\n",
    "                with open(file_path, 'r', encoding='utf-8') as file:\n",
    "                    text = file.read()\n",
    "                    text_list.append(text)\n",
    "                    labels.append(label)\n",
    "\n",
    "    return text_list, labels"
   ]
  },
  {
   "cell_type": "code",
   "execution_count": 2,
   "metadata": {},
   "outputs": [],
   "source": [
    "# Set the folder path to \"train\" or \"test\" as needed\n",
    "train_folder_path = \"D:\\\\jaysh\\\\FALL2023\\\\DLRL\\\\HW3\\\\dataset\\\\train\"\n",
    "test_folder_path = \"D:\\\\jaysh\\\\FALL2023\\\\DLRL\\\\HW3\\\\dataset\\\\test\""
   ]
  },
  {
   "cell_type": "code",
   "execution_count": 3,
   "metadata": {},
   "outputs": [],
   "source": [
    "# Load training data\n",
    "X_train, y_train = load_text_files_from_folder(train_folder_path)\n",
    "\n",
    "# Load testing data\n",
    "X_test, y_test = load_text_files_from_folder(test_folder_path)"
   ]
  },
  {
   "cell_type": "code",
   "execution_count": 4,
   "metadata": {},
   "outputs": [],
   "source": [
    "# Transform the data into bag-of-words representation\n",
    "from sklearn.feature_extraction.text import CountVectorizer, TfidfVectorizer\n",
    "vectorizer = CountVectorizer()\n",
    "X_train = vectorizer.fit_transform(X_train)\n",
    "X_test = vectorizer.transform(X_test)"
   ]
  },
  {
   "cell_type": "code",
   "execution_count": null,
   "metadata": {},
   "outputs": [],
   "source": []
  }
 ],
 "metadata": {
  "kernelspec": {
   "display_name": "Python 3",
   "language": "python",
   "name": "python3"
  },
  "language_info": {
   "codemirror_mode": {
    "name": "ipython",
    "version": 3
   },
   "file_extension": ".py",
   "mimetype": "text/x-python",
   "name": "python",
   "nbconvert_exporter": "python",
   "pygments_lexer": "ipython3",
   "version": "3.11.5"
  }
 },
 "nbformat": 4,
 "nbformat_minor": 2
}
